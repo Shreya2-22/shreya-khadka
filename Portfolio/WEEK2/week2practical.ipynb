{
 "cells": [
  {
   "cell_type": "markdown",
   "id": "af22c7bc",
   "metadata": {},
   "source": [
    "Week2 (variable and types) practicals:"
   ]
  },
  {
   "cell_type": "code",
   "execution_count": 1,
   "id": "56038f07",
   "metadata": {},
   "outputs": [
    {
     "name": "stdout",
     "output_type": "stream",
     "text": [
      "The total is 100\n"
     ]
    }
   ],
   "source": [
    "total = 100\n",
    "print(\"The total is\", total)"
   ]
  },
  {
   "cell_type": "code",
   "execution_count": 2,
   "id": "d6dcbf25",
   "metadata": {},
   "outputs": [
    {
     "name": "stdout",
     "output_type": "stream",
     "text": [
      "the total now is 199\n"
     ]
    }
   ],
   "source": [
    "total = total + 99 \n",
    "print(\"the total now is\", total)"
   ]
  },
  {
   "cell_type": "code",
   "execution_count": 3,
   "id": "25d9afb3",
   "metadata": {},
   "outputs": [
    {
     "name": "stdout",
     "output_type": "stream",
     "text": [
      "the total now is 298\n"
     ]
    }
   ],
   "source": [
    "total += 99 \n",
    "print(\"the total now is\", total)"
   ]
  },
  {
   "cell_type": "code",
   "execution_count": 6,
   "id": "5d1a7b8f",
   "metadata": {},
   "outputs": [
    {
     "name": "stdout",
     "output_type": "stream",
     "text": [
      "The total is 99\n",
      "The total is 396\n",
      "The total is 198.0\n"
     ]
    }
   ],
   "source": [
    "total = 100\n",
    "total -= 1\n",
    "print(\"The total is\", total)\n",
    "total *= 4\n",
    "print(\"The total is\", total)\n",
    "total /= 2\n",
    "print(\"The total is\", total)"
   ]
  },
  {
   "cell_type": "code",
   "execution_count": 7,
   "id": "934e3255",
   "metadata": {},
   "outputs": [
    {
     "name": "stdout",
     "output_type": "stream",
     "text": [
      "the average is: 19.64\n"
     ]
    }
   ],
   "source": [
    "total = 98.2\n",
    "count = 5\n",
    "average = total / count\n",
    "print(f\"the average is: {average}\")"
   ]
  },
  {
   "cell_type": "code",
   "execution_count": 8,
   "id": "804cd094",
   "metadata": {},
   "outputs": [
    {
     "data": {
      "text/plain": [
       "bool"
      ]
     },
     "execution_count": 8,
     "metadata": {},
     "output_type": "execute_result"
    }
   ],
   "source": [
    "type(False)"
   ]
  },
  {
   "cell_type": "code",
   "execution_count": 9,
   "id": "26be3408",
   "metadata": {},
   "outputs": [
    {
     "data": {
      "text/plain": [
       "int"
      ]
     },
     "execution_count": 9,
     "metadata": {},
     "output_type": "execute_result"
    }
   ],
   "source": [
    "type(1000)"
   ]
  },
  {
   "cell_type": "code",
   "execution_count": 10,
   "id": "ed7a203b",
   "metadata": {},
   "outputs": [
    {
     "data": {
      "text/plain": [
       "float"
      ]
     },
     "execution_count": 10,
     "metadata": {},
     "output_type": "execute_result"
    }
   ],
   "source": [
    "type(100.111)"
   ]
  },
  {
   "cell_type": "code",
   "execution_count": 11,
   "id": "f3eb3051",
   "metadata": {},
   "outputs": [
    {
     "data": {
      "text/plain": [
       "str"
      ]
     },
     "execution_count": 11,
     "metadata": {},
     "output_type": "execute_result"
    }
   ],
   "source": [
    "type(\"Hello\")"
   ]
  },
  {
   "cell_type": "code",
   "execution_count": 12,
   "id": "f1afd349",
   "metadata": {},
   "outputs": [
    {
     "data": {
      "text/plain": [
       "bool"
      ]
     },
     "execution_count": 12,
     "metadata": {},
     "output_type": "execute_result"
    }
   ],
   "source": [
    "type(True)"
   ]
  },
  {
   "cell_type": "code",
   "execution_count": 13,
   "id": "eb6ad7cb",
   "metadata": {},
   "outputs": [
    {
     "data": {
      "text/plain": [
       "float"
      ]
     },
     "execution_count": 13,
     "metadata": {},
     "output_type": "execute_result"
    }
   ],
   "source": [
    "type(100/5)"
   ]
  },
  {
   "cell_type": "code",
   "execution_count": 14,
   "id": "7e5e3306",
   "metadata": {},
   "outputs": [
    {
     "data": {
      "text/plain": [
       "int"
      ]
     },
     "execution_count": 14,
     "metadata": {},
     "output_type": "execute_result"
    }
   ],
   "source": [
    "type(100 // 5)"
   ]
  },
  {
   "cell_type": "code",
   "execution_count": 15,
   "id": "1dbb3639",
   "metadata": {},
   "outputs": [
    {
     "data": {
      "text/plain": [
       "'ABCABCABCABCABCABCABCABCABCABC'"
      ]
     },
     "execution_count": 15,
     "metadata": {},
     "output_type": "execute_result"
    }
   ],
   "source": [
    "\"ABC\" * 10"
   ]
  },
  {
   "cell_type": "code",
   "execution_count": 16,
   "id": "52384c1a",
   "metadata": {},
   "outputs": [
    {
     "name": "stdout",
     "output_type": "stream",
     "text": [
      "My name is Shreya Khadka.\n",
      "I live in Bhainsepati.\n",
      "Here is my contact detail 9842163128.\n",
      "The length of my name is 13.\n"
     ]
    }
   ],
   "source": [
    "name = \"Shreya Khadka\"\n",
    "address = \"Bhainsepati\"\n",
    "contact_details = 9842163128\n",
    "\n",
    "print(f\"My name is {name}.\")\n",
    "print(f\"I live in {address}.\")\n",
    "print(f\"Here is my contact detail {contact_details}.\")\n",
    "print(f\"The length of my name is {len(name)}.\")"
   ]
  },
  {
   "cell_type": "code",
   "execution_count": 18,
   "id": "e12c550c",
   "metadata": {},
   "outputs": [
    {
     "name": "stdout",
     "output_type": "stream",
     "text": [
      "Enter your age 19\n",
      "in one year your age will be 20\n"
     ]
    }
   ],
   "source": [
    "age = input(\"Enter your age \")\n",
    "age = int(age)\n",
    "print(\"in one year your age will be\", age + 1)"
   ]
  },
  {
   "cell_type": "code",
   "execution_count": 19,
   "id": "8fa8814a",
   "metadata": {},
   "outputs": [
    {
     "name": "stdout",
     "output_type": "stream",
     "text": [
      "Enter the first number: 5\n",
      "Enter the second number: 2\n",
      "The product of the first and second number is 10.\n"
     ]
    }
   ],
   "source": [
    "num_1 = int(input(\"Enter the first number: \"))\n",
    "num_2 = int(input(\"Enter the second number: \"))\n",
    "product = num_1 * num_2\n",
    "print(f\"The product of the first and second number is {product}.\")"
   ]
  },
  {
   "cell_type": "code",
   "execution_count": 21,
   "id": "bd2fa064",
   "metadata": {},
   "outputs": [
    {
     "name": "stdout",
     "output_type": "stream",
     "text": [
      "I would have \"thought\" you knew better!\n"
     ]
    }
   ],
   "source": [
    "comment = \"I would have \\\"thought\\\" you knew better!\"\n",
    "print(comment)"
   ]
  },
  {
   "cell_type": "code",
   "execution_count": 22,
   "id": "0f831ed3",
   "metadata": {},
   "outputs": [
    {
     "name": "stdout",
     "output_type": "stream",
     "text": [
      "This text includes characters such as '\\' '\"' and \"'\",\n",
      "This is a new line that starts with a tab\n",
      "\tThis new line starts with two tabs\n"
     ]
    }
   ],
   "source": [
    "print(\"This text includes characters such as '\\\\' '\\\"' and \\\"'\\\",\\nThis is a new line that starts with a tab\\n\\tThis new line starts with two tabs\")\n"
   ]
  },
  {
   "cell_type": "code",
   "execution_count": 24,
   "id": "70b9eeff",
   "metadata": {},
   "outputs": [
    {
     "name": "stdout",
     "output_type": "stream",
     "text": [
      "\\\\\\\\\\\\\\\\\\\\\\\\\\\\\\\\\\\\\\\\\\\\\\\\\\\\\\\\\\\\\n",
      "hello there!\n",
      "\\\\\\\\\\\\\\\\\\\\\\\\\\\\\\\\\\\\\\\\\\\\\\\\\\\\\\\\\\\\\n"
     ]
    }
   ],
   "source": [
    "print(r\"\\\\\\\\\\\\\\\\\\\\\\\\\\\\\\\\\\\\\\\\\\\\\\\\\\\\\\\\\\\\\")\n",
    "print(\"hello there!\")\n",
    "print(r\"\\\\\\\\\\\\\\\\\\\\\\\\\\\\\\\\\\\\\\\\\\\\\\\\\\\\\\\\\\\\\")"
   ]
  },
  {
   "cell_type": "code",
   "execution_count": 25,
   "id": "8752c14a",
   "metadata": {},
   "outputs": [
    {
     "name": "stdout",
     "output_type": "stream",
     "text": [
      "This text spans three lines,\n",
      "and includes both single ('),\n",
      "and double quotes (\").\n"
     ]
    }
   ],
   "source": [
    "print('''This text spans three lines,\n",
    "and includes both single ('),\n",
    "and double quotes (\").''')"
   ]
  },
  {
   "cell_type": "code",
   "execution_count": 26,
   "id": "2841b4a5",
   "metadata": {},
   "outputs": [
    {
     "name": "stdout",
     "output_type": "stream",
     "text": [
      "i\n"
     ]
    }
   ],
   "source": [
    "surname = \"Palin\"\n",
    "initial = surname[3]\n",
    "print(initial)"
   ]
  },
  {
   "cell_type": "code",
   "execution_count": 27,
   "id": "42ed4f99",
   "metadata": {},
   "outputs": [
    {
     "name": "stdout",
     "output_type": "stream",
     "text": [
      "i\n"
     ]
    }
   ],
   "source": [
    "surname = \"Palin\"\n",
    "initial = surname[-2]\n",
    "print(initial)"
   ]
  },
  {
   "cell_type": "code",
   "execution_count": 28,
   "id": "4f97b30b",
   "metadata": {},
   "outputs": [
    {
     "name": "stdout",
     "output_type": "stream",
     "text": [
      "alin\n"
     ]
    }
   ],
   "source": [
    "surname = \"Palin\"\n",
    "middle = surname[1:5]\n",
    "print(middle)"
   ]
  },
  {
   "cell_type": "code",
   "execution_count": 29,
   "id": "943b28ef",
   "metadata": {},
   "outputs": [
    {
     "name": "stdout",
     "output_type": "stream",
     "text": [
      "Pali\n"
     ]
    }
   ],
   "source": [
    "surname = \"Palin\"\n",
    "middle = surname[0:4]\n",
    "print(middle)"
   ]
  },
  {
   "cell_type": "code",
   "execution_count": 30,
   "id": "6f4f99c5",
   "metadata": {},
   "outputs": [
    {
     "name": "stdout",
     "output_type": "stream",
     "text": [
      "The first four prime numbers from the above list are: [2, 3, 5, 7].\n"
     ]
    }
   ],
   "source": [
    "primes = [2, 3, 5, 7, 13, 17, 19, 23, 29, 31, 37, 41, 43, 47]\n",
    "first_four = primes[0:4]\n",
    "print(f\"The first four prime numbers from the above list are: {first_four}.\")"
   ]
  },
  {
   "cell_type": "code",
   "execution_count": 42,
   "id": "283526e6",
   "metadata": {},
   "outputs": [
    {
     "name": "stdout",
     "output_type": "stream",
     "text": [
      "['shreya', 'sraddha', 'shrevika', 'aarju', 'manasha']\n"
     ]
    }
   ],
   "source": [
    "names = [\"shreya\", \"sraddha\", \"aditi\", \"safal\", \"manasha\"]\n",
    "names[2:4] = [\"shrevika\", \"aarju\"]\n",
    "print(names)"
   ]
  },
  {
   "cell_type": "code",
   "execution_count": 44,
   "id": "b42f4bee",
   "metadata": {},
   "outputs": [
    {
     "name": "stdout",
     "output_type": "stream",
     "text": [
      "[1, 2, 3, 1, 2, 3, 1, 2, 3, 1, 2, 3, 1, 2, 3]\n"
     ]
    }
   ],
   "source": [
    "nums = [1,2,3] * 5\n",
    "print(nums)"
   ]
  },
  {
   "cell_type": "markdown",
   "id": "443cbfd5",
   "metadata": {},
   "source": [
    "-Assignment: Variable value is set using assignment (which is the ‘=’ symbol) eg : name = \"shreya\"\n",
    "\n",
    "-Data-type: Python has a number of built-in  data types, which are very commonly used.\n",
    "These primitive-types are -\n",
    "int refers to values that are whole numbers eg: 10(int)\n",
    "float refers to decimal values, i.e. numbers that include a decimal place. eg: 10.22(float)\n",
    "bool is used to store the values of either True or False \n",
    "str refers to a string of characters, e.g. used to store text. eg: \"shreya\" \n",
    "\n",
    "-Argument:Within the parentheses we pass values, to be used by the function. These\n",
    "are often called arguments or parameters\n",
    "\n",
    "-Indexing:Parts of a string can be accessed via a numerical index, placed between\n",
    "square brackets. This allows individual characters from a string to be accessed, e.g.\n",
    "name = \"Shreya Khadka\"\n",
    "first_letter = name[0]\n",
    "\n",
    "-Slicing:Rather than access a single character it is possible to access several\n",
    "characters from a string, this is called slicing.\n",
    "eg: name = \"Roger the Shrubber\"\n",
    "    word = name[6:9] # get the string \"the\"\n",
    "\n",
    "-Mutable:  Lists are mutable, we can update them in several ways. We can add to the end of an existing list using the append method, e.g.\n",
    "primes.append(67) \n",
    "\n",
    "-Immutable: Strings are immutable, we cannot update them."
   ]
  }
 ],
 "metadata": {
  "kernelspec": {
   "display_name": "Python 3 (ipykernel)",
   "language": "python",
   "name": "python3"
  },
  "language_info": {
   "codemirror_mode": {
    "name": "ipython",
    "version": 3
   },
   "file_extension": ".py",
   "mimetype": "text/x-python",
   "name": "python",
   "nbconvert_exporter": "python",
   "pygments_lexer": "ipython3",
   "version": "3.9.13"
  }
 },
 "nbformat": 4,
 "nbformat_minor": 5
}

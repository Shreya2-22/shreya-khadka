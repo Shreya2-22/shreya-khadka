{
 "cells": [
  {
   "cell_type": "markdown",
   "id": "322edf56",
   "metadata": {},
   "source": [
    "Week 2 (Variable and types) Programs:"
   ]
  },
  {
   "cell_type": "markdown",
   "id": "ac806de9",
   "metadata": {},
   "source": [
    "Last week you wrote a program that printed out a cheery greeting including your\n",
    "name. Take a copy of it, and modify it so that the user enters their name at the\n",
    "keyboard, and then receives a greeting. For example:\n",
    "Hello, what is your name? Mr Apricot\n",
    "Hello, Mr Apricot. Good to meet you!"
   ]
  },
  {
   "cell_type": "code",
   "execution_count": 2,
   "id": "8b1ed252",
   "metadata": {},
   "outputs": [
    {
     "name": "stdout",
     "output_type": "stream",
     "text": [
      "enter your name: Shrey\n",
      "Hello, what is your name? Mr Shrey\n",
      "Hello, Mr Shrey. Good to meet you!\n"
     ]
    }
   ],
   "source": [
    "name = input(\"enter your name: \")\n",
    "print(f\"Hello, what is your name? Mr {name}\")\n",
    "print(f\"Hello, Mr {name}. Good to meet you!\")"
   ]
  },
  {
   "cell_type": "markdown",
   "id": "0445da78",
   "metadata": {},
   "source": [
    "Write a program that prompts a user to enter a temperature in Celsius, and then\n",
    "displays the corresponding temperature in Fahrenheit, like so:\n",
    "Enter a temperature in Celsius: 32.5\n",
    "32.5C is equivalent to 90.5F."
   ]
  },
  {
   "cell_type": "code",
   "execution_count": 4,
   "id": "cad1e923",
   "metadata": {},
   "outputs": [
    {
     "name": "stdout",
     "output_type": "stream",
     "text": [
      "Enter a temperature in Celsius: 32.5\n",
      "32.5C is equivalent to 90.5F.\n"
     ]
    }
   ],
   "source": [
    "celsius = float(input(\"Enter a temperature in Celsius: \"))\n",
    "fahrenheit = celsius * 9/5 + 32\n",
    "print(f\"{celsius}C is equivalent to {fahrenheit}F.\")"
   ]
  },
  {
   "cell_type": "markdown",
   "id": "37606bbc",
   "metadata": {},
   "source": [
    "The Head of Computing at the University of Poppleton is tasked with dividing a\n",
    "group of students into lab groups. A lab group is usually 24 students, but this is\n",
    "sometimes varied to create groups of similar size. Write a program that prompts for\n",
    "the number of students and group size, and then displays how many groups will be\n",
    "needed and how many will be left over in a smaller group.\n",
    "How many students? 113\n",
    "Required group size? 22\n",
    "There will be 5 groups with 3 students left over.\n",
    "For bonus credit, see if you can fix the grammar in the output. So if there were 101\n",
    "students in groups of 20 the output would be:\n",
    "There will be 5 groups with 1 student left over"
   ]
  },
  {
   "cell_type": "code",
   "execution_count": 7,
   "id": "95549fa1",
   "metadata": {},
   "outputs": [
    {
     "name": "stdout",
     "output_type": "stream",
     "text": [
      "How many students? 4\n",
      "Required group size? 3\n",
      "There will be 1 group with 1 student left over\n"
     ]
    }
   ],
   "source": [
    "num_students = int(input(\"How many students? \"))\n",
    "group_size = int(input(\"Required group size? \"))\n",
    "\n",
    "num_groups = num_students // group_size\n",
    "left_over = num_students % group_size\n",
    "\n",
    "grammar = \"students\" if left_over != 1 else \"student\"\n",
    "print(f\"There will be {num_groups} group{'s' if num_groups !=1 else ''} with {left_over} {grammar} left over\")"
   ]
  },
  {
   "cell_type": "markdown",
   "id": "6d294941",
   "metadata": {},
   "source": [
    "A kindly teacher wishes to distribute a tub of sweets between her pupils. She will\n",
    "first count the sweets and then divide them according to how many pupils attend\n",
    "that day. Write a program that will tell the teacher how many sweets to give to each\n",
    "pupil, and how many she will have left over.\n"
   ]
  },
  {
   "cell_type": "code",
   "execution_count": 16,
   "id": "a7bfd491",
   "metadata": {},
   "outputs": [
    {
     "name": "stdout",
     "output_type": "stream",
     "text": [
      "Enter the total number of sweets: 55\n",
      "Enter the total number of pupils: 6\n",
      "Each pupil will get 9 sweets with 1 sweet left over\n"
     ]
    }
   ],
   "source": [
    "num_sweets = int(input(\"Enter the total number of sweets: \"))\n",
    "num_pupils = int(input(\"Enter the total number of pupils: \"))\n",
    "sweet_per_pupil = num_sweets // num_pupils\n",
    "left_over = num_sweets % num_pupils\n",
    "grammar = \"sweets\" if left_over != 1 else \"sweet\"\n",
    "print(f\"Each pupil will get {sweet_per_pupil} sweet{'s' if sweet_per_pupil !=1 else ''} with {left_over} {grammar} left over\")\n"
   ]
  }
 ],
 "metadata": {
  "kernelspec": {
   "display_name": "Python 3 (ipykernel)",
   "language": "python",
   "name": "python3"
  },
  "language_info": {
   "codemirror_mode": {
    "name": "ipython",
    "version": 3
   },
   "file_extension": ".py",
   "mimetype": "text/x-python",
   "name": "python",
   "nbconvert_exporter": "python",
   "pygments_lexer": "ipython3",
   "version": "3.9.13"
  }
 },
 "nbformat": 4,
 "nbformat_minor": 5
}

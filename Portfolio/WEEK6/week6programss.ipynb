{
 "cells": [
  {
   "cell_type": "markdown",
   "id": "80ce93a5",
   "metadata": {},
   "source": [
    "Week 6 : programs"
   ]
  },
  {
   "cell_type": "markdown",
   "id": "bbe9ae55",
   "metadata": {},
   "source": [
    "Write a function that accepts a positive integer as a parameter and then returns a\n",
    "representation of that number in binary (base 2)."
   ]
  },
  {
   "cell_type": "code",
   "execution_count": 2,
   "id": "46d2b5b1",
   "metadata": {},
   "outputs": [
    {
     "name": "stdout",
     "output_type": "stream",
     "text": [
      "1 0 0 0 0\n"
     ]
    }
   ],
   "source": [
    "def convertbinary(m):\n",
    "    a=[]\n",
    "    n=int(m)\n",
    "    while n!=0:\n",
    "        a.append(n%2)\n",
    "        n=n//2\n",
    "    a.reverse()\n",
    "    return a\n",
    "print(*convertbinary(16))"
   ]
  },
  {
   "cell_type": "code",
   "execution_count": null,
   "id": "7a7681cd",
   "metadata": {},
   "outputs": [],
   "source": [
    "Write and test a function that takes an integer as its parameter and returns the\n",
    "factors of that integer. (A factor is an integer which can be multiplied by another to\n",
    "yield the original)."
   ]
  },
  {
   "cell_type": "code",
   "execution_count": 3,
   "id": "0f81e5e8",
   "metadata": {},
   "outputs": [
    {
     "name": "stdout",
     "output_type": "stream",
     "text": [
      "The factors of 14 are: [1, 2, 7, 14]\n"
     ]
    }
   ],
   "source": [
    "def finding_the_factors(number):\n",
    "    factors = []\n",
    "    for i in range(1, number + 1):\n",
    "        if number % i == 0:\n",
    "            factors.append(i)\n",
    "    return factors\n",
    "\n",
    "num = 14  \n",
    "result = finding_the_factors(num)\n",
    "print(f\"The factors of {num} are: {result}\")\n"
   ]
  },
  {
   "cell_type": "markdown",
   "id": "70518098",
   "metadata": {},
   "source": [
    "Write and test a function that determines if a given integer is a prime number. A\n",
    "prime number is an integer greater than 1 that cannot be produced by multiplying\n",
    "two other integers."
   ]
  },
  {
   "cell_type": "code",
   "execution_count": 4,
   "id": "6a739353",
   "metadata": {},
   "outputs": [
    {
     "name": "stdout",
     "output_type": "stream",
     "text": [
      "13 is a prime number\n"
     ]
    }
   ],
   "source": [
    "def isprime(number):\n",
    "    if number <= 1:\n",
    "        return False\n",
    "    for i in range(2, int(number ** 0.5) + 1):\n",
    "        if number % i == 0:\n",
    "            return False\n",
    "    return True\n",
    "\n",
    "num = 13 \n",
    "if isprime(num):\n",
    "    print(f\"{num} is a prime number\")\n",
    "else:\n",
    "    print(f\"{num} is not a prime number\")\n"
   ]
  },
  {
   "cell_type": "markdown",
   "id": "815dc60d",
   "metadata": {},
   "source": [
    "Computers are commonly used in encryption. A very simple form of encryption\n",
    "(more accurately \"obfuscation\") would be to remove the spaces from a message\n",
    "and reverse the resulting string. Write, and test, a function that takes a string\n",
    "containing a message and \"encrypts\" it in this way."
   ]
  },
  {
   "cell_type": "code",
   "execution_count": 5,
   "id": "752fc905",
   "metadata": {},
   "outputs": [
    {
     "name": "stdout",
     "output_type": "stream",
     "text": [
      "Original Message: My name is Shreya Khadka\n",
      "Encrypted Message: akdahKayerhSsiemanyM\n"
     ]
    }
   ],
   "source": [
    "def encrypt(message):\n",
    "  \n",
    "    encrypted_message = message.replace(\" \", \"\")[::-1]\n",
    "    return encrypted_message\n",
    "\n",
    "\n",
    "original_message = \"My name is Shreya Khadka\"  \n",
    "encrypted = encrypt(original_message)\n",
    "print(f\"Original Message: {original_message}\")\n",
    "print(f\"Encrypted Message: {encrypted}\")\n"
   ]
  },
  {
   "cell_type": "markdown",
   "id": "c93f9a55",
   "metadata": {},
   "source": [
    "Another way to hide a message is to include the letters that make it up within\n",
    "seemingly random text. The letters of the message might be every fifth character,\n",
    "for example. Write and test a function that does such encryption. It should\n",
    "randomly generate an interval (between 2 and 20), space the message out\n",
    "accordingly, and should fill the gaps with random letters. The function should\n",
    "return the encrypted message and the interval used.\n",
    "For example, if the message is \"send cheese\", the random interval is 2, and for\n",
    "clarity the random letters are not random:\n",
    "send cheese\n",
    "s e n d c h e e s e\n",
    "sxyexynxydxy cxyhxyexyexysxye"
   ]
  },
  {
   "cell_type": "code",
   "execution_count": 6,
   "id": "42536b03",
   "metadata": {},
   "outputs": [
    {
     "name": "stdout",
     "output_type": "stream",
     "text": [
      "Original Message: my name is shreya\n",
      "Encrypted Message: mzyrnraomjenixsvsfhyrdecyba \n",
      "Interval Used: 14\n"
     ]
    }
   ],
   "source": [
    "import random\n",
    "import string\n",
    "\n",
    "def hide(message):\n",
    "    interval = random.randint(2, 20)\n",
    "    random_letters = ''.join(random.choices(string.ascii_lowercase, k=interval - 1))\n",
    "    \n",
    "    encrypted_message = ''\n",
    "    index = 0\n",
    "    for char in message:\n",
    "        if char != ' ':\n",
    "            encrypted_message += char\n",
    "            if index % interval == interval - 1:\n",
    "                encrypted_message += ' '\n",
    "            else:\n",
    "                encrypted_message += random_letters[index % (interval - 1)]\n",
    "            index += 1\n",
    "    \n",
    "    return encrypted_message, interval\n",
    "\n",
    "\n",
    "original_message = \"my name is shreya\"  \n",
    "encrypted, interval_used = hide(original_message)\n",
    "print(f\"Original Message: {original_message}\")\n",
    "print(f\"Encrypted Message: {encrypted}\")\n",
    "print(f\"Interval Used: {interval_used}\")\n"
   ]
  }
 ],
 "metadata": {
  "kernelspec": {
   "display_name": "Python 3 (ipykernel)",
   "language": "python",
   "name": "python3"
  },
  "language_info": {
   "codemirror_mode": {
    "name": "ipython",
    "version": 3
   },
   "file_extension": ".py",
   "mimetype": "text/x-python",
   "name": "python",
   "nbconvert_exporter": "python",
   "pygments_lexer": "ipython3",
   "version": "3.9.13"
  }
 },
 "nbformat": 4,
 "nbformat_minor": 5
}

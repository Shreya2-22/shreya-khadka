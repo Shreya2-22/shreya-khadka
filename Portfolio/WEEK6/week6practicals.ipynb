{
 "cells": [
  {
   "cell_type": "markdown",
   "id": "f0375196",
   "metadata": {},
   "source": [
    "week 6: list and tuples practicals"
   ]
  },
  {
   "cell_type": "code",
   "execution_count": 2,
   "id": "671e10e0",
   "metadata": {},
   "outputs": [
    {
     "name": "stdout",
     "output_type": "stream",
     "text": [
      "The square root of 4 is 2.0.\n",
      "The square root of 9 is 3.0.\n",
      "The square root of 16 is 4.0.\n",
      "The square root of 25 is 5.0.\n"
     ]
    }
   ],
   "source": [
    "import math\n",
    "squares = [4,9,16,25]\n",
    "for n in squares:\n",
    "    square_root = math.sqrt(n)\n",
    "    print(f\"The square root of {n} is {square_root}.\")"
   ]
  },
  {
   "cell_type": "code",
   "execution_count": 5,
   "id": "915abb71",
   "metadata": {},
   "outputs": [
    {
     "name": "stdout",
     "output_type": "stream",
     "text": [
      "[4, 9, 16, 25, 49, 64, 81]\n"
     ]
    }
   ],
   "source": [
    "squares = [4,9,16,25]\n",
    "squares.append(49)\n",
    "squares.append(64)\n",
    "squares.append(81)\n",
    "print(squares)"
   ]
  },
  {
   "cell_type": "code",
   "execution_count": 6,
   "id": "f34a58f8",
   "metadata": {},
   "outputs": [
    {
     "name": "stdout",
     "output_type": "stream",
     "text": [
      "[4, 9, 16, 25, 121, 144, 169]\n"
     ]
    }
   ],
   "source": [
    "squares=[4,9,16,25]\n",
    "squares.extend([121,144,169])\n",
    "print(squares)"
   ]
  },
  {
   "cell_type": "code",
   "execution_count": 11,
   "id": "ef6847b9",
   "metadata": {},
   "outputs": [
    {
     "name": "stdout",
     "output_type": "stream",
     "text": [
      "[2, 4, 9, 16, 25]\n"
     ]
    }
   ],
   "source": [
    "squares = [4,9,16,25]\n",
    "squares.insert(0,2)\n",
    "print(squares)"
   ]
  },
  {
   "cell_type": "code",
   "execution_count": 12,
   "id": "4a276a95",
   "metadata": {},
   "outputs": [
    {
     "name": "stdout",
     "output_type": "stream",
     "text": [
      "[4, 9, 16, 25, 64, 81]\n"
     ]
    }
   ],
   "source": [
    "squares = [4,9,16,25,49,64,81]\n",
    "squares.remove(49)\n",
    "print(squares)"
   ]
  },
  {
   "cell_type": "code",
   "execution_count": 13,
   "id": "aae87824",
   "metadata": {},
   "outputs": [
    {
     "ename": "ValueError",
     "evalue": "list.remove(x): x not in list",
     "output_type": "error",
     "traceback": [
      "\u001b[1;31m---------------------------------------------------------------------------\u001b[0m",
      "\u001b[1;31mValueError\u001b[0m                                Traceback (most recent call last)",
      "\u001b[1;32m~\\AppData\\Local\\Temp\\ipykernel_30696\\1615391292.py\u001b[0m in \u001b[0;36m<module>\u001b[1;34m\u001b[0m\n\u001b[1;32m----> 1\u001b[1;33m \u001b[0msquares\u001b[0m\u001b[1;33m.\u001b[0m\u001b[0mremove\u001b[0m\u001b[1;33m(\u001b[0m\u001b[1;36m3\u001b[0m\u001b[1;33m)\u001b[0m\u001b[1;33m\u001b[0m\u001b[1;33m\u001b[0m\u001b[0m\n\u001b[0m\u001b[0;32m      2\u001b[0m \u001b[0mprint\u001b[0m\u001b[1;33m(\u001b[0m\u001b[0msquares\u001b[0m\u001b[1;33m)\u001b[0m\u001b[1;33m\u001b[0m\u001b[1;33m\u001b[0m\u001b[0m\n",
      "\u001b[1;31mValueError\u001b[0m: list.remove(x): x not in list"
     ]
    }
   ],
   "source": [
    "squares.remove(3)\n",
    "print(squares)"
   ]
  },
  {
   "cell_type": "code",
   "execution_count": 15,
   "id": "2ce04524",
   "metadata": {},
   "outputs": [
    {
     "name": "stdout",
     "output_type": "stream",
     "text": [
      "[1, 3, 1, 2]\n"
     ]
    }
   ],
   "source": [
    "numbers = [1,2,3,1,2]\n",
    "numbers.remove(2)\n",
    "print(numbers)"
   ]
  },
  {
   "cell_type": "code",
   "execution_count": 16,
   "id": "80304f18",
   "metadata": {},
   "outputs": [
    {
     "name": "stdout",
     "output_type": "stream",
     "text": [
      "[9, 16, 25]\n"
     ]
    }
   ],
   "source": [
    "squares= [4,9,16,25]\n",
    "squares.pop(0)\n",
    "print(squares)"
   ]
  },
  {
   "cell_type": "code",
   "execution_count": 17,
   "id": "f41067d3",
   "metadata": {},
   "outputs": [
    {
     "name": "stdout",
     "output_type": "stream",
     "text": [
      "['Eric', 'Sophie', 'anna', 'sam']\n"
     ]
    }
   ],
   "source": [
    "names = [ \"Eric\", \"anna\", \"Sophie\", \"sam\" ]\n",
    "names.sort()\n",
    "print(names)"
   ]
  },
  {
   "cell_type": "code",
   "execution_count": 18,
   "id": "bd7084cf",
   "metadata": {},
   "outputs": [
    {
     "name": "stdout",
     "output_type": "stream",
     "text": [
      "['anna', 'Eric', 'sam', 'Sophie']\n"
     ]
    }
   ],
   "source": [
    "names = [ \"Eric\", \"anna\", \"Sophie\", \"sam\" ]\n",
    "names.sort(key = lambda x: x.upper())\n",
    "print(names)"
   ]
  },
  {
   "cell_type": "code",
   "execution_count": 19,
   "id": "f144c7ef",
   "metadata": {},
   "outputs": [
    {
     "name": "stdout",
     "output_type": "stream",
     "text": [
      "[25, 16, 9, 4]\n"
     ]
    }
   ],
   "source": [
    "names=[4,9,16,25]\n",
    "names.reverse()\n",
    "print(names)"
   ]
  },
  {
   "cell_type": "code",
   "execution_count": 21,
   "id": "4685327a",
   "metadata": {},
   "outputs": [
    {
     "name": "stdout",
     "output_type": "stream",
     "text": [
      "3\n"
     ]
    }
   ],
   "source": [
    "colours = [\"red\", \"green\", \"yellow\", \"blue\", \"red\"]\n",
    "print(colours.index(\"blue\"))\n"
   ]
  },
  {
   "cell_type": "code",
   "execution_count": 24,
   "id": "7e816075",
   "metadata": {},
   "outputs": [
    {
     "name": "stdout",
     "output_type": "stream",
     "text": [
      "original list = ['red', 'green', 'blue', 'red', 'purple']\n",
      "copied list = ['red', 'green', 'yellow', 'blue', 'red']\n"
     ]
    }
   ],
   "source": [
    "colours = [\"red\", \"green\", \"yellow\", \"blue\",\"red\"]\n",
    "copy = colours.copy()\n",
    "colours.append(\"purple\")\n",
    "colours.remove(\"yellow\")\n",
    "print(f\"original list = {colours}\")\n",
    "print(f\"copied list = {copy}\")"
   ]
  },
  {
   "cell_type": "code",
   "execution_count": 25,
   "id": "addda903",
   "metadata": {},
   "outputs": [
    {
     "name": "stdout",
     "output_type": "stream",
     "text": [
      "[8, 27, 64, 125, 216, 343, 512, 729, 1000, 1331, 1728, 2197, 2744, 3375, 4096, 4913, 5832, 6859, 8000]\n"
     ]
    }
   ],
   "source": [
    "cubes = [x ** 3 for x in range(2, 21)]\n",
    "print(cubes)"
   ]
  },
  {
   "cell_type": "code",
   "execution_count": 28,
   "id": "23da50f7",
   "metadata": {},
   "outputs": [
    {
     "name": "stdout",
     "output_type": "stream",
     "text": [
      "['jannet']\n"
     ]
    }
   ],
   "source": [
    "all_users = [\"jannet\", \"harrypotter\",\"mcgonagal\"]\n",
    "some_users = [u for u in all_users if len(u) < 8]\n",
    "print(some_users)"
   ]
  },
  {
   "cell_type": "code",
   "execution_count": 31,
   "id": "789cea28",
   "metadata": {},
   "outputs": [
    {
     "name": "stdout",
     "output_type": "stream",
     "text": [
      "(339, 'Bhainsepati JL street', 668)\n"
     ]
    }
   ],
   "source": [
    "address = (339, \"Bhainsepati JL street\", 668)\n",
    "print(address)"
   ]
  },
  {
   "cell_type": "code",
   "execution_count": 32,
   "id": "82fef768",
   "metadata": {},
   "outputs": [
    {
     "data": {
      "text/plain": [
       "tuple"
      ]
     },
     "execution_count": 32,
     "metadata": {},
     "output_type": "execute_result"
    }
   ],
   "source": [
    "empty = ()\n",
    "type(empty)"
   ]
  },
  {
   "cell_type": "code",
   "execution_count": 33,
   "id": "4eef4f33",
   "metadata": {},
   "outputs": [
    {
     "data": {
      "text/plain": [
       "tuple"
      ]
     },
     "execution_count": 33,
     "metadata": {},
     "output_type": "execute_result"
    }
   ],
   "source": [
    "the_one = \"Neo\",\n",
    "type(the_one)"
   ]
  },
  {
   "cell_type": "code",
   "execution_count": 34,
   "id": "10d84f87",
   "metadata": {},
   "outputs": [
    {
     "data": {
      "text/plain": [
       "str"
      ]
     },
     "execution_count": 34,
     "metadata": {},
     "output_type": "execute_result"
    }
   ],
   "source": [
    "the_one = (\"Neo\")\n",
    "type(the_one)"
   ]
  },
  {
   "cell_type": "code",
   "execution_count": 36,
   "id": "64ee6698",
   "metadata": {},
   "outputs": [
    {
     "name": "stdout",
     "output_type": "stream",
     "text": [
      "House Number: 339\n",
      "Street: Bhainsepati JL street\n",
      "Postcode: 668\n"
     ]
    }
   ],
   "source": [
    "address = (339, \"Bhainsepati JL street\", 668)\n",
    "house_num, street, postcode = address\n",
    "print(\"House Number:\", house_num)\n",
    "print(\"Street:\", street)\n",
    "print(\"Postcode:\", postcode)\n"
   ]
  },
  {
   "cell_type": "code",
   "execution_count": 40,
   "id": "b79e339c",
   "metadata": {},
   "outputs": [
    {
     "name": "stdout",
     "output_type": "stream",
     "text": [
      "339 Bhainsepati JL street 668\n",
      "(339, 'Bhainsepati JL street', 668)\n"
     ]
    }
   ],
   "source": [
    "address = (339, \"Bhainsepati JL street\", 668)\n",
    "print(*address)\n",
    "print(address)"
   ]
  }
 ],
 "metadata": {
  "kernelspec": {
   "display_name": "Python 3 (ipykernel)",
   "language": "python",
   "name": "python3"
  },
  "language_info": {
   "codemirror_mode": {
    "name": "ipython",
    "version": 3
   },
   "file_extension": ".py",
   "mimetype": "text/x-python",
   "name": "python",
   "nbconvert_exporter": "python",
   "pygments_lexer": "ipython3",
   "version": "3.9.13"
  }
 },
 "nbformat": 4,
 "nbformat_minor": 5
}

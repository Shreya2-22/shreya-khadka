{
 "cells": [
  {
   "cell_type": "markdown",
   "id": "1875cfec",
   "metadata": {},
   "source": [
    "week 7 programs"
   ]
  },
  {
   "cell_type": "code",
   "execution_count": 1,
   "id": "9fe4e6e8",
   "metadata": {},
   "outputs": [
    {
     "name": "stdout",
     "output_type": "stream",
     "text": [
      "Unique letters in 'cheese': ['c', 'e', 'h', 's']\n"
     ]
    }
   ],
   "source": [
    "def unique(string):\n",
    "    unique_letters = sorted(set(string.lower()))\n",
    "    \n",
    "    return unique_letters\n",
    "\n",
    "word = \"cheese\"  \n",
    "result = unique(word)\n",
    "print(f\"Unique letters in '{word}': {result}\")"
   ]
  },
  {
   "cell_type": "code",
   "execution_count": 2,
   "id": "6b048254",
   "metadata": {},
   "outputs": [
    {
     "name": "stdout",
     "output_type": "stream",
     "text": [
      "Letters that appear in at least one of the two words: ['a', 'd', 'e', 'h', 'k', 'r', 's', 'y']\n",
      "Letters that appear in both words: ['a', 'h']\n",
      "Letters that appear in either word, but not in both: ['d', 'e', 'k', 'r', 's', 'y']\n"
     ]
    }
   ],
   "source": [
    "def letters_in_either(word1, word2):\n",
    "    return sorted(set(word1.lower() + word2.lower()))\n",
    "def letters_in_both(word1, word2):\n",
    "    return sorted(set(word1.lower()).intersection(word2.lower()))\n",
    "def letters_in_either_not_both(word1, word2):\n",
    "    return sorted(set(word1.lower()).symmetric_difference(word2.lower()))\n",
    "word1 = \"shreya\"\n",
    "word2 = \"khadka\"\n",
    "\n",
    "print(f\"Letters that appear in at least one of the two words: {letters_in_either(word1, word2)}\")\n",
    "print(f\"Letters that appear in both words: {letters_in_both(word1, word2)}\")\n",
    "print(f\"Letters that appear in either word, but not in both: {letters_in_either_not_both(word1, word2)}\")\n"
   ]
  },
  {
   "cell_type": "code",
   "execution_count": null,
   "id": "f76aac89",
   "metadata": {},
   "outputs": [
    {
     "name": "stdout",
     "output_type": "stream",
     "text": [
      "Enter the name of a country (or 'exit' to quit): nepal\n",
      "What is the capital of Nepal? kathmandu\n",
      "Added Nepal with capital kathmandu\n",
      "Enter the name of a country (or 'exit' to quit): AUSTRALIA\n",
      "What is the capital of Australia? canberra\n",
      "Added Australia with capital canberra\n"
     ]
    }
   ],
   "source": [
    "def take_countries():\n",
    "    countries = {}\n",
    "    \n",
    "    while True:\n",
    "        user_input = input(\"Enter the name of a country (or 'exit' to quit): \").strip().lower()\n",
    "        \n",
    "        if user_input == 'exit':\n",
    "            break\n",
    "        \n",
    "        if user_input in countries:\n",
    "            print(f\"The capital of {user_input.capitalize()} is {countries[user_input]}\")\n",
    "        else:\n",
    "            capital = input(f\"What is the capital of {user_input.capitalize()}? \").strip()\n",
    "            countries[user_input] = capital\n",
    "            print(f\"Added {user_input.capitalize()} with capital {capital}\")\n",
    "            \n",
    "    print(\"Exiting the program.\")\n",
    "\n",
    "take_countries()"
   ]
  },
  {
   "cell_type": "code",
   "execution_count": null,
   "id": "08cad402",
   "metadata": {},
   "outputs": [],
   "source": []
  }
 ],
 "metadata": {
  "kernelspec": {
   "display_name": "Python 3 (ipykernel)",
   "language": "python",
   "name": "python3"
  },
  "language_info": {
   "codemirror_mode": {
    "name": "ipython",
    "version": 3
   },
   "file_extension": ".py",
   "mimetype": "text/x-python",
   "name": "python",
   "nbconvert_exporter": "python",
   "pygments_lexer": "ipython3",
   "version": "3.9.13"
  }
 },
 "nbformat": 4,
 "nbformat_minor": 5
}

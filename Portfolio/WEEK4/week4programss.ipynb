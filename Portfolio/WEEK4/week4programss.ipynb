{
 "cells": [
  {
   "cell_type": "code",
   "execution_count": null,
   "id": "73673b85",
   "metadata": {},
   "outputs": [],
   "source": [
    "Week 4 : programs"
   ]
  },
  {
   "cell_type": "code",
   "execution_count": 5,
   "id": "050a436e",
   "metadata": {},
   "outputs": [
    {
     "name": "stdout",
     "output_type": "stream",
     "text": [
      "True\n",
      "False\n"
     ]
    }
   ],
   "source": [
    "number = lambda x : \"True\" if x>=0 and x<=100 else \"False\"\n",
    "print(number(2))\n",
    "print(number(105))"
   ]
  },
  {
   "cell_type": "code",
   "execution_count": 6,
   "id": "121420e7",
   "metadata": {},
   "outputs": [
    {
     "name": "stdout",
     "output_type": "stream",
     "text": [
      "1 4\n"
     ]
    }
   ],
   "source": [
    "def count_upper_lower(string):\n",
    "    lowercase_letter_count = 0\n",
    "    uppercase_letter_count = 0\n",
    "\n",
    "    for letter in string:\n",
    "        if letter.isupper():\n",
    "            uppercase_letter_count += 1\n",
    "        elif letter.islower():\n",
    "            lowercase_letter_count += 1\n",
    "\n",
    "    print(uppercase_letter_count, lowercase_letter_count)\n",
    "count_upper_lower(\"Hello\")\n"
   ]
  },
  {
   "cell_type": "code",
   "execution_count": 8,
   "id": "325f7f68",
   "metadata": {},
   "outputs": [
    {
     "name": "stdout",
     "output_type": "stream",
     "text": [
      "Enter your name: arTHur\n",
      "Hello Arthur\n"
     ]
    }
   ],
   "source": [
    "name=input(\"Enter your name: \")\n",
    "if name:\n",
    "    name=name[0].upper()+name[1:].lower()\n",
    "    print(f\"Hello {name}\")\n",
    "else:\n",
    "    print(f\"Hello Stranger\")"
   ]
  },
  {
   "cell_type": "code",
   "execution_count": 9,
   "id": "e189ecce",
   "metadata": {},
   "outputs": [
    {
     "name": "stdout",
     "output_type": "stream",
     "text": [
      "Enter a string: hello shreyaa\n",
      "hello shreyaa\n",
      "hello shreya\n"
     ]
    },
    {
     "data": {
      "text/plain": [
       "'hello shreya'"
      ]
     },
     "execution_count": 9,
     "metadata": {},
     "output_type": "execute_result"
    }
   ],
   "source": [
    "str=input(\"Enter a string: \")\n",
    "def remove_last(str):\n",
    "    print(str)\n",
    "    if len(str)>1:\n",
    "        str=str.strip()\n",
    "        str=str[:-1]\n",
    "    else:\n",
    "        str=str\n",
    "    print(str)\n",
    "    return str\n",
    "remove_last(str)"
   ]
  },
  {
   "cell_type": "code",
   "execution_count": 12,
   "id": "82ef41da",
   "metadata": {},
   "outputs": [
    {
     "name": "stdout",
     "output_type": "stream",
     "text": [
      "40.0C is equivalent to 104.0F\n",
      "70.0F is equivalent to 21.11C\n"
     ]
    }
   ],
   "source": [
    "def c_to_f(temp):\n",
    "    temp = float(temp)\n",
    "    f = (temp * 1.8) + 32\n",
    "    result = (f\"{temp}C is equivalent to {f}F\")\n",
    "    return result\n",
    "\n",
    "def f_to_c(temp):\n",
    "    temp = float(temp)\n",
    "    c = (temp - 32) / 1.8\n",
    "    result = (f\"{temp}F is equivalent to {c:.2f}C\")\n",
    "    return result\n",
    "\n",
    "print(c_to_f(40))\n",
    "print(f_to_c(70))"
   ]
  },
  {
   "cell_type": "code",
   "execution_count": 23,
   "id": "8ba4e70b",
   "metadata": {},
   "outputs": [
    {
     "name": "stdout",
     "output_type": "stream",
     "text": [
      "Enter temp: 34C\n",
      "34.0C is equivalent to 93.2F\n"
     ]
    }
   ],
   "source": [
    "def conversion():\n",
    "    user_input = input(\"Enter temp: \")\n",
    "    if user_input[-1].lower() == \"c\":\n",
    "        temp = float(user_input[:-1])\n",
    "        fahrenheit = (temp * 9/5) + 32\n",
    "        result = f\"{temp}C is equivalent to {fahrenheit}F\"\n",
    "        return result\n",
    "    else:\n",
    "        result = \"Invalid input! Please provide temperature in Celsius (e.g., 75C)\"\n",
    "        return result\n",
    "\n",
    "print(conversion())\n"
   ]
  },
  {
   "cell_type": "code",
   "execution_count": 25,
   "id": "4e5561d9",
   "metadata": {},
   "outputs": [
    {
     "name": "stdout",
     "output_type": "stream",
     "text": [
      "Enter temperature 1: 11C\n",
      "Enter temperature 2: 22C\n",
      "Enter temperature 3: 33C\n",
      "Enter temperature 4: 44C\n",
      "Enter temperature 5: 55C\n",
      "Enter temperature 6: 66C\n",
      "Maximum temperature: 66.0C\n",
      "Minimum temperature: 11.0C\n",
      "Mean temperature: 38.5C\n"
     ]
    }
   ],
   "source": [
    "temperatures = []\n",
    "\n",
    "for i in range(6):\n",
    "    user_input = input(f\"Enter temperature {i+1}: \")\n",
    "    if user_input[-1].lower() == \"c\":\n",
    "        temp = float(user_input[:-1])\n",
    "        temperatures.append(temp)\n",
    "    else:\n",
    "        print(\"Invalid input! Please provide temperature in Celsius \")\n",
    "        break\n",
    "else:\n",
    "    if temperatures:\n",
    "        max_temp = max(temperatures)\n",
    "        min_temp = min(temperatures)\n",
    "        mean_temp = sum(temperatures) / len(temperatures)\n",
    "        print(f\"Maximum temperature: {max_temp}C\")\n",
    "        print(f\"Minimum temperature: {min_temp}C\")\n",
    "        print(f\"Mean temperature: {mean_temp}C\")\n"
   ]
  },
  {
   "cell_type": "code",
   "execution_count": 26,
   "id": "48947358",
   "metadata": {},
   "outputs": [
    {
     "name": "stdout",
     "output_type": "stream",
     "text": [
      "Enter temperature (or press Enter to finish): 36C\n",
      "Enter temperature (or press Enter to finish): \n",
      "Maximum temperature: 36.0C\n",
      "Minimum temperature: 36.0C\n",
      "Mean temperature: 36.0C\n"
     ]
    }
   ],
   "source": [
    "temperatures = []\n",
    "\n",
    "while True:\n",
    "    user_input = input(\"Enter temperature (or press Enter to finish): \")\n",
    "    if user_input == \"\":\n",
    "        break\n",
    "    elif user_input[-1].lower() == \"c\":\n",
    "        temp = float(user_input[:-1])\n",
    "        temperatures.append(temp)\n",
    "    else:\n",
    "        print(\"Invalid input! Please provide temperature in Celsius\")\n",
    "\n",
    "if temperatures:\n",
    "    max_temp = max(temperatures)\n",
    "    min_temp = min(temperatures)\n",
    "    mean_temp = sum(temperatures) / len(temperatures)\n",
    "    print(f\"Maximum temperature: {max_temp}C\")\n",
    "    print(f\"Minimum temperature: {min_temp}C\")\n",
    "    print(f\"Mean temperature: {mean_temp}C\")\n",
    "else:\n",
    "    print(\"No temperatures provided.\")\n"
   ]
  }
 ],
 "metadata": {
  "kernelspec": {
   "display_name": "Python 3 (ipykernel)",
   "language": "python",
   "name": "python3"
  },
  "language_info": {
   "codemirror_mode": {
    "name": "ipython",
    "version": 3
   },
   "file_extension": ".py",
   "mimetype": "text/x-python",
   "name": "python",
   "nbconvert_exporter": "python",
   "pygments_lexer": "ipython3",
   "version": "3.9.13"
  }
 },
 "nbformat": 4,
 "nbformat_minor": 5
}

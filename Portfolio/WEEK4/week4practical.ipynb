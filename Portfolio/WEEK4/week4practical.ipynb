{
 "cells": [
  {
   "cell_type": "markdown",
   "id": "7b7acf79",
   "metadata": {},
   "source": [
    "week 4: functions practical"
   ]
  },
  {
   "cell_type": "code",
   "execution_count": 1,
   "id": "dda1ed8c",
   "metadata": {},
   "outputs": [
    {
     "name": "stdout",
     "output_type": "stream",
     "text": [
      "49.0\n"
     ]
    }
   ],
   "source": [
    "import math\n",
    "result = math.sqrt(2401)\n",
    "print(result)"
   ]
  },
  {
   "cell_type": "code",
   "execution_count": 3,
   "id": "0012b5d5",
   "metadata": {},
   "outputs": [
    {
     "name": "stdout",
     "output_type": "stream",
     "text": [
      "The log base 2 value of 1024 is 10.0.\n"
     ]
    }
   ],
   "source": [
    "from math import log2\n",
    "result = log2(1024)\n",
    "print(f\"The log base 2 value of 1024 is {result}.\")"
   ]
  },
  {
   "cell_type": "code",
   "execution_count": 5,
   "id": "aef33e21",
   "metadata": {},
   "outputs": [
    {
     "name": "stdout",
     "output_type": "stream",
     "text": [
      "shreya\n",
      "shreya\n",
      "8\n",
      "8\n"
     ]
    }
   ],
   "source": [
    "def displayTwice(msg):\n",
    "    print(msg)\n",
    "    print(msg)\n",
    "displayTwice(\"shreya\")\n",
    "displayTwice(8)"
   ]
  },
  {
   "cell_type": "code",
   "execution_count": 14,
   "id": "8fe64f73",
   "metadata": {},
   "outputs": [
    {
     "name": "stdout",
     "output_type": "stream",
     "text": [
      "Help on function displayTwice in module __main__:\n",
      "\n",
      "displayTwice(msg)\n",
      "    display msg Twice,\n",
      "    msg is the value to be displayed\n",
      "\n"
     ]
    }
   ],
   "source": [
    "def displayTwice(msg):\n",
    " \"\"\" display msg Twice,\n",
    "msg is the value to be displayed\n",
    "\"\"\"\n",
    "help(displayTwice)"
   ]
  },
  {
   "cell_type": "code",
   "execution_count": 16,
   "id": "f3a35720",
   "metadata": {},
   "outputs": [
    {
     "name": "stdout",
     "output_type": "stream",
     "text": [
      "The maximum value in first case is 3\n",
      "The maximum value in second case is 4\n",
      "The maximum value in third case is 8\n"
     ]
    }
   ],
   "source": [
    "def findMax(a,b):\n",
    "    \"\"\"Finds the maximum of two values.\"\"\"\n",
    "    if ( a > b ):\n",
    "        max = a\n",
    "    else:\n",
    "        max = b\n",
    "    return max\n",
    "case1 = findMax(2,3)\n",
    "case2 = findMax(3,4)\n",
    "case3 = findMax(8,5)\n",
    "print(f\"The maximum value in first case is {case1}\")\n",
    "print(f\"The maximum value in second case is {case2}\")\n",
    "print(f\"The maximum value in third case is {case3}\")"
   ]
  },
  {
   "cell_type": "code",
   "execution_count": 1,
   "id": "47f6c7b3",
   "metadata": {},
   "outputs": [
    {
     "name": "stdout",
     "output_type": "stream",
     "text": [
      "the result of case 1 is 4\n",
      "the result of case 2 is 9\n",
      "the result of case 3 is 16\n"
     ]
    }
   ],
   "source": [
    "def multiply(a, b = None):\n",
    "    if b is not None:\n",
    "        result = a*b\n",
    "    else:\n",
    "        result = a*a\n",
    "    return result\n",
    "case1 = multiply(2,2)\n",
    "case2 = multiply(3)\n",
    "case3 = multiply(4,4)\n",
    "print(f\"the result of case 1 is {case1}\")\n",
    "print(f\"the result of case 2 is {case2}\")\n",
    "print(f\"the result of case 3 is {case3}\")"
   ]
  },
  {
   "cell_type": "code",
   "execution_count": 6,
   "id": "1e6f0a5a",
   "metadata": {},
   "outputs": [
    {
     "name": "stdout",
     "output_type": "stream",
     "text": [
      "x is 1 \n",
      "y is 2 \n",
      "z is 3\n",
      "x is 1 \n",
      "y is 2 \n",
      "z is 3\n",
      "x is 1 \n",
      "y is 2 \n",
      "z is 3\n",
      "x is 1 \n",
      "y is 2 \n",
      "z is 3\n"
     ]
    }
   ],
   "source": [
    "def someFunc(x, y, z):\n",
    "     print(\"x is\", x, \"\\ny is\", y, \"\\nz is\", z)\n",
    "someFunc(1,2,3)\n",
    "someFunc(x=1,y=2,z=3)\n",
    "someFunc(y=2,x=1,z=3)\n",
    "someFunc(z=3,y=2,x=1)\n"
   ]
  },
  {
   "cell_type": "code",
   "execution_count": 7,
   "id": "fad15cfe",
   "metadata": {},
   "outputs": [
    {
     "name": "stdout",
     "output_type": "stream",
     "text": [
      "shreya,sraddha,safal\n",
      "apple-mango-banana\n",
      "she/her/hers\n"
     ]
    }
   ],
   "source": [
    "print(\"shreya\", \"sraddha\", \"safal\",sep = \",\")\n",
    "print(\"apple\",\"mango\", \"banana\", sep = \"-\")\n",
    "print(\"she\", \"her\", \"hers\",sep = \"/\")"
   ]
  },
  {
   "cell_type": "code",
   "execution_count": 11,
   "id": "89e52540",
   "metadata": {},
   "outputs": [
    {
     "name": "stdout",
     "output_type": "stream",
     "text": [
      "3.0\n",
      "2.0\n",
      "1.0\n",
      "0\n"
     ]
    }
   ],
   "source": [
    "def calcAve(*numbers):\n",
    "    total = 0\n",
    "    for num in numbers:\n",
    "        total += num\n",
    "    return total/len(numbers) if len(numbers) > 0 else 0 #for empty input\n",
    "print(calcAve(5,3,1))\n",
    "print(calcAve(2,2))\n",
    "print(calcAve(1))\n",
    "print(calcAve())\n"
   ]
  },
  {
   "cell_type": "code",
   "execution_count": 15,
   "id": "60c5b50a",
   "metadata": {},
   "outputs": [
    {
     "data": {
      "text/plain": [
       "5.0"
      ]
     },
     "execution_count": 15,
     "metadata": {},
     "output_type": "execute_result"
    }
   ],
   "source": [
    "import math\n",
    "hypot = lambda a,b: math.sqrt(a*a + b*b)\n",
    "hypot(3,4)"
   ]
  },
  {
   "cell_type": "code",
   "execution_count": 16,
   "id": "3708afcb",
   "metadata": {},
   "outputs": [
    {
     "name": "stdout",
     "output_type": "stream",
     "text": [
      "<class 'function'>\n"
     ]
    }
   ],
   "source": [
    "print(type(hypot))"
   ]
  },
  {
   "cell_type": "code",
   "execution_count": 18,
   "id": "9fb0a459",
   "metadata": {},
   "outputs": [
    {
     "data": {
      "text/plain": [
       "120"
      ]
     },
     "execution_count": 18,
     "metadata": {},
     "output_type": "execute_result"
    }
   ],
   "source": [
    "to_seconds = lambda hours, minutes : hours*3600 + minutes*60\n",
    "to_seconds(0,2)"
   ]
  },
  {
   "cell_type": "code",
   "execution_count": 19,
   "id": "f2d017a6",
   "metadata": {},
   "outputs": [
    {
     "data": {
      "text/plain": [
       "7200"
      ]
     },
     "execution_count": 19,
     "metadata": {},
     "output_type": "execute_result"
    }
   ],
   "source": [
    "to_seconds(2,0)"
   ]
  },
  {
   "cell_type": "code",
   "execution_count": 20,
   "id": "1cb9d189",
   "metadata": {},
   "outputs": [
    {
     "data": {
      "text/plain": [
       "5400"
      ]
     },
     "execution_count": 20,
     "metadata": {},
     "output_type": "execute_result"
    }
   ],
   "source": [
    "to_seconds(1,30)"
   ]
  },
  {
   "cell_type": "code",
   "execution_count": 22,
   "id": "42236c61",
   "metadata": {},
   "outputs": [
    {
     "data": {
      "text/plain": [
       "7200"
      ]
     },
     "execution_count": 22,
     "metadata": {},
     "output_type": "execute_result"
    }
   ],
   "source": [
    "to_seconds = lambda hours, minutes=0 : hours*3600 + minutes*60\n",
    "to_seconds(2)"
   ]
  },
  {
   "cell_type": "code",
   "execution_count": 23,
   "id": "e6e804bf",
   "metadata": {},
   "outputs": [
    {
     "data": {
      "text/plain": [
       "3600"
      ]
     },
     "execution_count": 23,
     "metadata": {},
     "output_type": "execute_result"
    }
   ],
   "source": [
    "to_seconds(1)"
   ]
  },
  {
   "cell_type": "code",
   "execution_count": 24,
   "id": "8180534d",
   "metadata": {},
   "outputs": [
    {
     "data": {
      "text/plain": [
       "7320"
      ]
     },
     "execution_count": 24,
     "metadata": {},
     "output_type": "execute_result"
    }
   ],
   "source": [
    "to_seconds(2,2)"
   ]
  },
  {
   "cell_type": "code",
   "execution_count": null,
   "id": "ee211634",
   "metadata": {},
   "outputs": [],
   "source": []
  }
 ],
 "metadata": {
  "kernelspec": {
   "display_name": "Python 3 (ipykernel)",
   "language": "python",
   "name": "python3"
  },
  "language_info": {
   "codemirror_mode": {
    "name": "ipython",
    "version": 3
   },
   "file_extension": ".py",
   "mimetype": "text/x-python",
   "name": "python",
   "nbconvert_exporter": "python",
   "pygments_lexer": "ipython3",
   "version": "3.9.13"
  }
 },
 "nbformat": 4,
 "nbformat_minor": 5
}

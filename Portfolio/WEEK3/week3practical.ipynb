{
 "cells": [
  {
   "cell_type": "markdown",
   "id": "24b0e7c2",
   "metadata": {},
   "source": [
    "Week 3: control statements (practical)"
   ]
  },
  {
   "cell_type": "code",
   "execution_count": 1,
   "id": "642fd297",
   "metadata": {},
   "outputs": [
    {
     "data": {
      "text/plain": [
       "True"
      ]
     },
     "execution_count": 1,
     "metadata": {},
     "output_type": "execute_result"
    }
   ],
   "source": [
    "10<100"
   ]
  },
  {
   "cell_type": "code",
   "execution_count": 2,
   "id": "e3647c5d",
   "metadata": {},
   "outputs": [
    {
     "data": {
      "text/plain": [
       "False"
      ]
     },
     "execution_count": 2,
     "metadata": {},
     "output_type": "execute_result"
    }
   ],
   "source": [
    "100 != 100"
   ]
  },
  {
   "cell_type": "code",
   "execution_count": 3,
   "id": "37bf6d27",
   "metadata": {},
   "outputs": [
    {
     "data": {
      "text/plain": [
       "True"
      ]
     },
     "execution_count": 3,
     "metadata": {},
     "output_type": "execute_result"
    }
   ],
   "source": [
    "50 >= 50"
   ]
  },
  {
   "cell_type": "code",
   "execution_count": 4,
   "id": "bdc42d2f",
   "metadata": {},
   "outputs": [
    {
     "data": {
      "text/plain": [
       "False"
      ]
     },
     "execution_count": 4,
     "metadata": {},
     "output_type": "execute_result"
    }
   ],
   "source": [
    "age = 19\n",
    "age<18"
   ]
  },
  {
   "cell_type": "code",
   "execution_count": 5,
   "id": "8c46460d",
   "metadata": {},
   "outputs": [
    {
     "data": {
      "text/plain": [
       "True"
      ]
     },
     "execution_count": 5,
     "metadata": {},
     "output_type": "execute_result"
    }
   ],
   "source": [
    "age<21"
   ]
  },
  {
   "cell_type": "code",
   "execution_count": 6,
   "id": "bc67d982",
   "metadata": {},
   "outputs": [
    {
     "data": {
      "text/plain": [
       "True"
      ]
     },
     "execution_count": 6,
     "metadata": {},
     "output_type": "execute_result"
    }
   ],
   "source": [
    "age<31"
   ]
  },
  {
   "cell_type": "code",
   "execution_count": 7,
   "id": "e435cca3",
   "metadata": {},
   "outputs": [
    {
     "data": {
      "text/plain": [
       "True"
      ]
     },
     "execution_count": 7,
     "metadata": {},
     "output_type": "execute_result"
    }
   ],
   "source": [
    "\"a\"<\"b\""
   ]
  },
  {
   "cell_type": "code",
   "execution_count": 8,
   "id": "4488aeae",
   "metadata": {},
   "outputs": [
    {
     "data": {
      "text/plain": [
       "False"
      ]
     },
     "execution_count": 8,
     "metadata": {},
     "output_type": "execute_result"
    }
   ],
   "source": [
    "\"b\"<\"a\""
   ]
  },
  {
   "cell_type": "code",
   "execution_count": 9,
   "id": "c7b65bba",
   "metadata": {},
   "outputs": [
    {
     "data": {
      "text/plain": [
       "True"
      ]
     },
     "execution_count": 9,
     "metadata": {},
     "output_type": "execute_result"
    }
   ],
   "source": [
    "\"John\"<\"Terry\""
   ]
  },
  {
   "cell_type": "code",
   "execution_count": 10,
   "id": "52a3c2e2",
   "metadata": {},
   "outputs": [
    {
     "data": {
      "text/plain": [
       "False"
      ]
     },
     "execution_count": 10,
     "metadata": {},
     "output_type": "execute_result"
    }
   ],
   "source": [
    "\"john\"<\"Terry\""
   ]
  },
  {
   "cell_type": "code",
   "execution_count": 11,
   "id": "f59d7f63",
   "metadata": {},
   "outputs": [
    {
     "data": {
      "text/plain": [
       "True"
      ]
     },
     "execution_count": 11,
     "metadata": {},
     "output_type": "execute_result"
    }
   ],
   "source": [
    "5<10.2"
   ]
  },
  {
   "cell_type": "code",
   "execution_count": 12,
   "id": "edf0a968",
   "metadata": {},
   "outputs": [
    {
     "ename": "TypeError",
     "evalue": "'<' not supported between instances of 'int' and 'str'",
     "output_type": "error",
     "traceback": [
      "\u001b[1;31m---------------------------------------------------------------------------\u001b[0m",
      "\u001b[1;31mTypeError\u001b[0m                                 Traceback (most recent call last)",
      "\u001b[1;32m~\\AppData\\Local\\Temp\\ipykernel_31108\\4159590602.py\u001b[0m in \u001b[0;36m<module>\u001b[1;34m\u001b[0m\n\u001b[1;32m----> 1\u001b[1;33m \u001b[1;36m5\u001b[0m\u001b[1;33m<\u001b[0m\u001b[1;34m\"Monky\"\u001b[0m\u001b[1;33m\u001b[0m\u001b[1;33m\u001b[0m\u001b[0m\n\u001b[0m",
      "\u001b[1;31mTypeError\u001b[0m: '<' not supported between instances of 'int' and 'str'"
     ]
    }
   ],
   "source": [
    "5<\"Monky\""
   ]
  },
  {
   "cell_type": "code",
   "execution_count": 13,
   "id": "bb2bcede",
   "metadata": {},
   "outputs": [
    {
     "ename": "TypeError",
     "evalue": "'<' not supported between instances of 'int' and 'str'",
     "output_type": "error",
     "traceback": [
      "\u001b[1;31m---------------------------------------------------------------------------\u001b[0m",
      "\u001b[1;31mTypeError\u001b[0m                                 Traceback (most recent call last)",
      "\u001b[1;32m~\\AppData\\Local\\Temp\\ipykernel_31108\\3773992793.py\u001b[0m in \u001b[0;36m<module>\u001b[1;34m\u001b[0m\n\u001b[1;32m----> 1\u001b[1;33m \u001b[1;36m5\u001b[0m\u001b[1;33m<\u001b[0m\u001b[1;34m\"5\"\u001b[0m\u001b[1;33m\u001b[0m\u001b[1;33m\u001b[0m\u001b[0m\n\u001b[0m",
      "\u001b[1;31mTypeError\u001b[0m: '<' not supported between instances of 'int' and 'str'"
     ]
    }
   ],
   "source": [
    "5<\"5\""
   ]
  },
  {
   "cell_type": "code",
   "execution_count": 14,
   "id": "43b89387",
   "metadata": {},
   "outputs": [
    {
     "data": {
      "text/plain": [
       "False"
      ]
     },
     "execution_count": 14,
     "metadata": {},
     "output_type": "execute_result"
    }
   ],
   "source": [
    "age = 30\n",
    "age >=18 and age <=65\n",
    "age <18 or age >65\n",
    "not age > 18\n"
   ]
  },
  {
   "cell_type": "code",
   "execution_count": 15,
   "id": "2588a7df",
   "metadata": {},
   "outputs": [
    {
     "data": {
      "text/plain": [
       "False"
      ]
     },
     "execution_count": 15,
     "metadata": {},
     "output_type": "execute_result"
    }
   ],
   "source": [
    "age = 30\n",
    "(age >=18 and age <=65) and (not age==30)"
   ]
  },
  {
   "cell_type": "code",
   "execution_count": 18,
   "id": "0d3327cb",
   "metadata": {},
   "outputs": [
    {
     "data": {
      "text/plain": [
       "True"
      ]
     },
     "execution_count": 18,
     "metadata": {},
     "output_type": "execute_result"
    }
   ],
   "source": [
    "weight = 150\n",
    "height = 175\n",
    "100 < weight and weight < 200\n",
    "\n"
   ]
  },
  {
   "cell_type": "code",
   "execution_count": 19,
   "id": "1e0c005e",
   "metadata": {},
   "outputs": [
    {
     "data": {
      "text/plain": [
       "False"
      ]
     },
     "execution_count": 19,
     "metadata": {},
     "output_type": "execute_result"
    }
   ],
   "source": [
    "height > 131 and height < 160"
   ]
  },
  {
   "cell_type": "code",
   "execution_count": 20,
   "id": "29c768e1",
   "metadata": {},
   "outputs": [
    {
     "data": {
      "text/plain": [
       "True"
      ]
     },
     "execution_count": 20,
     "metadata": {},
     "output_type": "execute_result"
    }
   ],
   "source": [
    "names = [\"Terry\", \"John\", \"Michael\", \"Eric\", \"Terry\", \"Graham\"]\n",
    "\"Eric\" in names"
   ]
  },
  {
   "cell_type": "code",
   "execution_count": 21,
   "id": "d28f4b5e",
   "metadata": {},
   "outputs": [
    {
     "data": {
      "text/plain": [
       "True"
      ]
     },
     "execution_count": 21,
     "metadata": {},
     "output_type": "execute_result"
    }
   ],
   "source": [
    "\"shreya\" not in names"
   ]
  },
  {
   "cell_type": "code",
   "execution_count": 22,
   "id": "2229e3a1",
   "metadata": {},
   "outputs": [
    {
     "data": {
      "text/plain": [
       "False"
      ]
     },
     "execution_count": 22,
     "metadata": {},
     "output_type": "execute_result"
    }
   ],
   "source": [
    "\"shreya\" in names"
   ]
  },
  {
   "cell_type": "code",
   "execution_count": 26,
   "id": "1f1f0610",
   "metadata": {},
   "outputs": [
    {
     "name": "stdout",
     "output_type": "stream",
     "text": [
      "Enter your age: 19\n",
      "You are still young!\n"
     ]
    }
   ],
   "source": [
    "age = int(input(\"Enter your age: \"))\n",
    "if 18<=age<=30:\n",
    "    print(\"You are still young!\")\n",
    "else:\n",
    "    print(\"You are not young!\")\n",
    "    "
   ]
  },
  {
   "cell_type": "code",
   "execution_count": 30,
   "id": "c4f81a24",
   "metadata": {},
   "outputs": [
    {
     "name": "stdout",
     "output_type": "stream",
     "text": [
      "you are aged between 30 and 40\n"
     ]
    }
   ],
   "source": [
    " age = 32\n",
    "if age > 100:\n",
    "    print(\"you are very old,\")\n",
    "    print(\"well done!\")\n",
    "elif age > 80:\n",
    "    print(\"you are fairly old\")\n",
    "    print(\"pretty good!\")\n",
    "elif 30<=age<=40:\n",
    "    print(\"you are aged between 30 and 40\")\n",
    "else:\n",
    "    print(\"you are not very old - yet\")"
   ]
  },
  {
   "cell_type": "code",
   "execution_count": 33,
   "id": "2db66b3d",
   "metadata": {},
   "outputs": [
    {
     "name": "stdout",
     "output_type": "stream",
     "text": [
      "Enter your name: shreya\n",
      "Your name is shreya\n"
     ]
    }
   ],
   "source": [
    "name = input(\"Enter your name: \")\n",
    "if bool(name):\n",
    "    print(\"Your name is\", name)\n",
    "else:\n",
    "    print(\"Name not entered\")"
   ]
  },
  {
   "cell_type": "code",
   "execution_count": 34,
   "id": "8272dd69",
   "metadata": {},
   "outputs": [
    {
     "name": "stdout",
     "output_type": "stream",
     "text": [
      "you are an adult\n"
     ]
    }
   ],
   "source": [
    "age = 20\n",
    "print(\"you are an adult\") if age>=18 else print(\"you are not an adult yet\")"
   ]
  },
  {
   "cell_type": "code",
   "execution_count": 35,
   "id": "a5c22e13",
   "metadata": {},
   "outputs": [
    {
     "name": "stdout",
     "output_type": "stream",
     "text": [
      "shreya\n",
      "sraddha\n",
      "aditi\n",
      "manasha\n"
     ]
    }
   ],
   "source": [
    "names = [\"shreya\",\"sraddha\", \"aditi\", \"manasha\"]\n",
    "for i in names:\n",
    "    print(i)"
   ]
  },
  {
   "cell_type": "code",
   "execution_count": 40,
   "id": "6d09da61",
   "metadata": {},
   "outputs": [
    {
     "name": "stdout",
     "output_type": "stream",
     "text": [
      "2 to the power 2 is = 4\n",
      "4 to the power 4 is = 256\n",
      "6 to the power 6 is = 46656\n",
      "8 to the power 8 is = 16777216\n",
      "10 to the power 10 is = 10000000000\n"
     ]
    }
   ],
   "source": [
    "for i in range(2,11,2):\n",
    "    result = i**i\n",
    "    print(f\"{i} to the power {i} is = {result}\")"
   ]
  },
  {
   "cell_type": "code",
   "execution_count": 41,
   "id": "42054e94",
   "metadata": {},
   "outputs": [
    {
     "name": "stdout",
     "output_type": "stream",
     "text": [
      "Running total: 10\n",
      "Running total: 30\n",
      "Running total: 60\n",
      "Running total: 150\n",
      "Running total: 350\n",
      "Running total: 380\n",
      "Running total: 402\n",
      "Running total: 413\n"
     ]
    }
   ],
   "source": [
    "numbers = [10, 20 , 30, 90, 200, 30, 22, 11]\n",
    "running_total = 0\n",
    "for i in numbers:\n",
    "    running_total += i\n",
    "    print(f\"Running total: {running_total}\")"
   ]
  },
  {
   "cell_type": "code",
   "execution_count": 52,
   "id": "8598db4c",
   "metadata": {},
   "outputs": [
    {
     "name": "stdout",
     "output_type": "stream",
     "text": [
      "Running total: 10\n",
      "Running total: 30\n",
      "Running total: 60\n",
      "Running total: 150\n",
      "your value is over 100!!!\n"
     ]
    }
   ],
   "source": [
    "numbers = [10, 20, 30, 90, 200, 30, 22, 11]\n",
    "running_total = 0\n",
    "for i in numbers:\n",
    "    if i > 100:\n",
    "        print(\"your value is over 100!!!\")\n",
    "        break\n",
    "    running_total += i\n",
    "    print(f\"Running total: {running_total}\")"
   ]
  },
  {
   "cell_type": "code",
   "execution_count": 53,
   "id": "55cf0047",
   "metadata": {},
   "outputs": [
    {
     "name": "stdout",
     "output_type": "stream",
     "text": [
      "Running total: 10\n",
      "Running total: 30\n",
      "Running total: 60\n",
      "Running total: 150\n",
      "your value is over 100!\n"
     ]
    }
   ],
   "source": [
    "numbers = [10, 20, 30, 90, 200, 30, 22, 11]\n",
    "running_total = 0\n",
    "under_100 = True  \n",
    "\n",
    "for i in numbers:\n",
    "    if i > 100:\n",
    "        print(\"your value is over 100!\")\n",
    "        under_100 = False\n",
    "        break\n",
    "    running_total += i\n",
    "    print(f\"Running total: {running_total}\")\n",
    "\n",
    "if under_100:\n",
    "    print(\"All numbers processed.\")"
   ]
  }
 ],
 "metadata": {
  "kernelspec": {
   "display_name": "Python 3 (ipykernel)",
   "language": "python",
   "name": "python3"
  },
  "language_info": {
   "codemirror_mode": {
    "name": "ipython",
    "version": 3
   },
   "file_extension": ".py",
   "mimetype": "text/x-python",
   "name": "python",
   "nbconvert_exporter": "python",
   "pygments_lexer": "ipython3",
   "version": "3.9.13"
  }
 },
 "nbformat": 4,
 "nbformat_minor": 5
}

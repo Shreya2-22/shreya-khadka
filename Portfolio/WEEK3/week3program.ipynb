{
 "cells": [
  {
   "cell_type": "markdown",
   "id": "790ce880",
   "metadata": {},
   "source": [
    "week3: programs"
   ]
  },
  {
   "cell_type": "markdown",
   "id": "93da400a",
   "metadata": {},
   "source": [
    "Modify your greeting program so that if the user does not enter a name (i.e. they\n",
    "just press enter), the program responds \"Hello, Stranger!\". Otherwise it should print\n",
    "a greeting with their name as before"
   ]
  },
  {
   "cell_type": "code",
   "execution_count": 3,
   "id": "5d7937e8",
   "metadata": {},
   "outputs": [
    {
     "name": "stdout",
     "output_type": "stream",
     "text": [
      "Enter your name: shreya\n",
      "Hello shreya\n"
     ]
    }
   ],
   "source": [
    "name=input(\"Enter your name: \")\n",
    "if name:\n",
    "    print(\"Hello\",name)\n",
    "else:\n",
    "    print(\"Hello Stranger!\")"
   ]
  },
  {
   "cell_type": "markdown",
   "id": "119ae617",
   "metadata": {},
   "source": [
    "Write a program that simulates the way in which a user might choose a password.\n",
    "The program should prompt for a new password, and then prompt again. If the two\n",
    "passwords entered are the same the program should say \"Password Set\" or\n",
    "similar, otherwise it should report an error."
   ]
  },
  {
   "cell_type": "code",
   "execution_count": 6,
   "id": "3d5d8040",
   "metadata": {},
   "outputs": [
    {
     "name": "stdout",
     "output_type": "stream",
     "text": [
      "Enter Password: shreya123\n",
      "Confirm Password: shreya123\n",
      "Password Set\n"
     ]
    }
   ],
   "source": [
    "password=input(\"Enter Password: \")\n",
    "check=input(\"Confirm Password: \")\n",
    "if password==check:\n",
    "    print(\"Password Set\")\n",
    "else:  \n",
    "    print(\" please try again, wrong password\")"
   ]
  },
  {
   "cell_type": "markdown",
   "id": "271d2b26",
   "metadata": {},
   "source": [
    "Modify your previous program so that the password must be between 8 and 12\n",
    "characters (inclusive) long.\n"
   ]
  },
  {
   "cell_type": "code",
   "execution_count": 7,
   "id": "40b42ad2",
   "metadata": {},
   "outputs": [
    {
     "name": "stdout",
     "output_type": "stream",
     "text": [
      "Enter Password: shreya\n",
      "Sorry you entered less than 8 characters or more than 12 characters\n"
     ]
    }
   ],
   "source": [
    "password=input(\"Enter Password: \")\n",
    "if ((len(password)>=8)and(len(password)<=12)):\n",
    "    check=input(\"Confirm Password: \")\n",
    "    if password==check:\n",
    "        print(\"Password Set\")\n",
    "    else:  \n",
    "        print(\"please try again, wrong password\")\n",
    "else:\n",
    "    print(\"Sorry you entered less than 8 characters or more than 12 characters\")"
   ]
  },
  {
   "cell_type": "markdown",
   "id": "e62a78bc",
   "metadata": {},
   "source": [
    "Modify your program again so that the chosen password cannot be one of a list of\n",
    "common passwords, defined thus:\n",
    "BAD_PASSWORDS = ['password', 'letmein', 'sesame', 'hello', 'justinbieber']"
   ]
  },
  {
   "cell_type": "code",
   "execution_count": 9,
   "id": "39a7ad02",
   "metadata": {},
   "outputs": [
    {
     "name": "stdout",
     "output_type": "stream",
     "text": [
      "Enter password: password\n",
      "You cannot have this password.\n"
     ]
    }
   ],
   "source": [
    "BAD_PASSWORDS = ['password', 'letmein', 'sesame', 'hello', 'justinbieber']\n",
    "password=input(\"Enter password: \")\n",
    "if password in BAD_PASSWORDS:\n",
    "    print(\"You cannot have this password.\")\n",
    "else:\n",
    "    check=input(\"Confirm Password: \")\n",
    "    if password==check:\n",
    "        print(\"Password Set\")\n",
    "    else:  \n",
    "        print(\"please try again, wrong password\")"
   ]
  },
  {
   "cell_type": "markdown",
   "id": "d7c8c727",
   "metadata": {},
   "source": [
    "Modify your program a final time so that it executes until the user successfully\n",
    "chooses a password. That is, if the password chosen fails any of the checks, the\n",
    "program should return to asking for the password the first time."
   ]
  },
  {
   "cell_type": "code",
   "execution_count": 10,
   "id": "d2139ccb",
   "metadata": {},
   "outputs": [
    {
     "name": "stdout",
     "output_type": "stream",
     "text": [
      "Enter Password: password\n",
      "You cannot have this password!\n",
      "Enter Password: shreya\n",
      "Sorry you entered less than 8 characters or more than 12 characters\n",
      "Enter Password: shreya2222\n",
      "Confirm Password: shreya22\n",
      "please try again, wrong password\n",
      "Enter Password: shreya2222\n",
      "Confirm Password: shreya2222\n",
      "Password Set!\n"
     ]
    }
   ],
   "source": [
    "BAD_PASSWORDS = ['password', 'letmein', 'sesame', 'hello', 'justinbieber']\n",
    "while(True):\n",
    "    password=input(\"Enter Password: \")\n",
    "    if password in BAD_PASSWORDS:\n",
    "        print(\"You cannot have this password!\")\n",
    "        continue\n",
    "    else:\n",
    "        if ((len(password)>=8)and(len(password)<=12)):\n",
    "            check=input(\"Confirm Password: \")\n",
    "            if password==check:\n",
    "                print(\"Password Set!\")\n",
    "                break\n",
    "            else:  \n",
    "                print(\"please try again, wrong password\")\n",
    "                continue\n",
    "        else:\n",
    "            print(\"Sorry you entered less than 8 characters or more than 12 characters\")\n",
    "            continue"
   ]
  },
  {
   "cell_type": "markdown",
   "id": "6fe4a5af",
   "metadata": {},
   "source": [
    "Write a program that displays the \"Seven Times Table\". That is, the result of\n",
    "multiplying 7 by every number from 0 to 12 inclusive. The output might start:\n",
    "0 x 7 = 0\n",
    "1 x 7 = 7\n",
    "2 x 7 = 14\n",
    "and so on"
   ]
  },
  {
   "cell_type": "code",
   "execution_count": 12,
   "id": "671589ff",
   "metadata": {},
   "outputs": [
    {
     "name": "stdout",
     "output_type": "stream",
     "text": [
      "0 X 7 = 0\n",
      "1 X 7 = 7\n",
      "2 X 7 = 14\n",
      "3 X 7 = 21\n",
      "4 X 7 = 28\n",
      "5 X 7 = 35\n",
      "6 X 7 = 42\n",
      "7 X 7 = 49\n",
      "8 X 7 = 56\n",
      "9 X 7 = 63\n",
      "10 X 7 = 70\n",
      "11 X 7 = 77\n",
      "12 X 7 = 84\n"
     ]
    }
   ],
   "source": [
    "for i in range(0,13):\n",
    "    multiplication_table=i*7\n",
    "    print(f\"{i} X 7 = {multiplication_table}\")"
   ]
  },
  {
   "cell_type": "markdown",
   "id": "d2d90b13",
   "metadata": {},
   "source": [
    "Modify your \"Times Table\" program so that the user enters the number of the table\n",
    "they require. This number should be between 0 and 12 inclusive."
   ]
  },
  {
   "cell_type": "code",
   "execution_count": 13,
   "id": "6af26f12",
   "metadata": {},
   "outputs": [
    {
     "name": "stdout",
     "output_type": "stream",
     "text": [
      "Enter the number for times table: 5\n",
      "0 X 5 = 0\n",
      "1 X 5 = 5\n",
      "2 X 5 = 10\n",
      "3 X 5 = 15\n",
      "4 X 5 = 20\n",
      "5 X 5 = 25\n",
      "6 X 5 = 30\n",
      "7 X 5 = 35\n",
      "8 X 5 = 40\n",
      "9 X 5 = 45\n",
      "10 X 5 = 50\n",
      "11 X 5 = 55\n",
      "12 X 5 = 60\n"
     ]
    }
   ],
   "source": [
    "number=int(input(\"Enter the number for times table: \"))\n",
    "for i in range(0,13):\n",
    "    multiplication_table=i*number\n",
    "    print(f\"{i} X {number} = {multiplication_table}\")"
   ]
  },
  {
   "cell_type": "markdown",
   "id": "66707c41",
   "metadata": {},
   "source": [
    "Modify the \"Times Table\" again so that the user still enters the number of the table,\n",
    "but if this number is negative the table is printed backwards. So entering \"-7\"\n",
    "would produce the Seven Times Table starting at \"12 times\" down to \"0 times\"."
   ]
  },
  {
   "cell_type": "code",
   "execution_count": 14,
   "id": "facca477",
   "metadata": {},
   "outputs": [
    {
     "name": "stdout",
     "output_type": "stream",
     "text": [
      "Enter the number for times table: -7\n",
      "12 X -7 = -84\n",
      "11 X -7 = -77\n",
      "10 X -7 = -70\n",
      "9 X -7 = -63\n",
      "8 X -7 = -56\n",
      "7 X -7 = -49\n",
      "6 X -7 = -42\n",
      "5 X -7 = -35\n",
      "4 X -7 = -28\n",
      "3 X -7 = -21\n",
      "2 X -7 = -14\n",
      "1 X -7 = -7\n",
      "0 X -7 = 0\n"
     ]
    }
   ],
   "source": [
    "number=int(input(\"Enter the number for times table: \"))\n",
    "if number>0:\n",
    "    for i in range(0,13):\n",
    "        multiplication_table=i*number\n",
    "        print(f\"{i} X {number} = {multiplication_table}\")\n",
    "else:\n",
    "    for i in range(12,-1,-1):\n",
    "        multiplication_table=i*number\n",
    "        print(f\"{i} X {number} = {multiplication_table}\")"
   ]
  }
 ],
 "metadata": {
  "kernelspec": {
   "display_name": "Python 3 (ipykernel)",
   "language": "python",
   "name": "python3"
  },
  "language_info": {
   "codemirror_mode": {
    "name": "ipython",
    "version": 3
   },
   "file_extension": ".py",
   "mimetype": "text/x-python",
   "name": "python",
   "nbconvert_exporter": "python",
   "pygments_lexer": "ipython3",
   "version": "3.9.13"
  }
 },
 "nbformat": 4,
 "nbformat_minor": 5
}

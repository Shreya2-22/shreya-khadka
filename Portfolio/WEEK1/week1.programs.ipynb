{
 "cells": [
  {
   "cell_type": "markdown",
   "id": "64e975f5",
   "metadata": {},
   "source": [
    "Week1(introduction to programming) PROGRAMS:"
   ]
  },
  {
   "cell_type": "markdown",
   "id": "6ed393f9",
   "metadata": {},
   "source": [
    "Write a program that prints a cheery message (such as \"Hello World\") on the\n",
    "screen. Run it, and note that you have taken the first step to becoming a\n",
    "programmer!"
   ]
  },
  {
   "cell_type": "code",
   "execution_count": 1,
   "id": "7da6bb86",
   "metadata": {},
   "outputs": [
    {
     "name": "stdout",
     "output_type": "stream",
     "text": [
      "Hello World\n"
     ]
    }
   ],
   "source": [
    "print(\"Hello World\")"
   ]
  },
  {
   "cell_type": "markdown",
   "id": "d640d824",
   "metadata": {},
   "source": [
    "Make a copy of the previous program, and modify it so that it displays your name.\n",
    "So if your name is Herbert the message should become:\n",
    "Hello, Herbert!"
   ]
  },
  {
   "cell_type": "code",
   "execution_count": 2,
   "id": "c5dd7bbd",
   "metadata": {},
   "outputs": [
    {
     "name": "stdout",
     "output_type": "stream",
     "text": [
      "Hello, Shreya!\n"
     ]
    }
   ],
   "source": [
    "print(\"Hello, Shreya!\")"
   ]
  },
  {
   "cell_type": "markdown",
   "id": "10dc1622",
   "metadata": {},
   "source": [
    "Over the summer, temperatures in Yorkshire reached 38.4C. Write a program that\n",
    "converts this value in Celsius to the equivalent temperature in Fahrenheit, and then\n",
    "displays both."
   ]
  },
  {
   "cell_type": "code",
   "execution_count": 5,
   "id": "3424d6eb",
   "metadata": {},
   "outputs": [
    {
     "name": "stdout",
     "output_type": "stream",
     "text": [
      "The temperature of Yorkshire in Fahrenheit is: 101.12F\n"
     ]
    }
   ],
   "source": [
    "yorkshiretemp_C = 38.4\n",
    "yorkshiretemp_F = (yorkshiretemp_C * 9/5) + 32\n",
    "print(f\"The temperature of Yorkshire in Fahrenheit is: {yorkshiretemp_F:.2f}F\")"
   ]
  },
  {
   "cell_type": "markdown",
   "id": "5dae771c",
   "metadata": {},
   "source": [
    "In a long career for Yorkshire, Geoffrey Boycott played 609 matches, batted 1014\n",
    "times, was not out 162 times, and scored 48426 runs. Write a program to calculate\n",
    "and display Boycott's batting average.\n",
    "Note: A batting average is the number of runs scored divided by the number of\n",
    "completed innings (i.e. the total times batted minus the times not out)."
   ]
  },
  {
   "cell_type": "code",
   "execution_count": 7,
   "id": "cd41646a",
   "metadata": {},
   "outputs": [
    {
     "name": "stdout",
     "output_type": "stream",
     "text": [
      "The batting average of Geoffrey Boycott is: 56.84\n"
     ]
    }
   ],
   "source": [
    "num_matches = 609\n",
    "batted_times = 1014\n",
    "not_out = 162\n",
    "num_runs = 48426\n",
    "complete_innings = batted_times - not_out\n",
    "batting_average = num_runs / complete_innings\n",
    "print(f\"The batting average of Geoffrey Boycott is: {batting_average:.2f}\")"
   ]
  },
  {
   "cell_type": "markdown",
   "id": "22a46fe7",
   "metadata": {},
   "source": [
    "The Head of Computing at the University of Poppleton is tasked with dividing a\n",
    "group of students into lab groups. A lab group is 24 students, since this is the\n",
    "number of PCs in a lab. Write a program that calculates how many groups are\n",
    "needed for the following number of students: 113, 175, 12. Display how many full\n",
    "groups there will be, and how many students will be in the smaller \"left over\"\n",
    "group."
   ]
  },
  {
   "cell_type": "code",
   "execution_count": 10,
   "id": "0e4ac3e5",
   "metadata": {},
   "outputs": [
    {
     "name": "stdout",
     "output_type": "stream",
     "text": [
      "In total of 113 students: \n",
      "Full groups: 4\n",
      "leftover student: 17\n",
      "\n",
      "In total of 175 students: \n",
      "Full groups: 7\n",
      "leftover student: 7\n",
      "\n",
      "In total of 12 students: \n",
      "Full groups: 0\n",
      "leftover student: 12\n",
      "\n"
     ]
    }
   ],
   "source": [
    "number_of_students = [113, 175, 12]\n",
    "num_per_group = 24\n",
    "\n",
    "for n in number_of_students:\n",
    "    \n",
    "    full_groups = n // num_per_group\n",
    "    \n",
    "    left_over_group = n % num_per_group\n",
    "    \n",
    "    print(f\"In total of {n} students: \")\n",
    "    print(f\"Full groups: {full_groups}\")\n",
    "    print(f\"leftover student: {left_over_group}\\n\")\n",
    "    "
   ]
  }
 ],
 "metadata": {
  "kernelspec": {
   "display_name": "Python 3 (ipykernel)",
   "language": "python",
   "name": "python3"
  },
  "language_info": {
   "codemirror_mode": {
    "name": "ipython",
    "version": 3
   },
   "file_extension": ".py",
   "mimetype": "text/x-python",
   "name": "python",
   "nbconvert_exporter": "python",
   "pygments_lexer": "ipython3",
   "version": "3.9.13"
  }
 },
 "nbformat": 4,
 "nbformat_minor": 5
}

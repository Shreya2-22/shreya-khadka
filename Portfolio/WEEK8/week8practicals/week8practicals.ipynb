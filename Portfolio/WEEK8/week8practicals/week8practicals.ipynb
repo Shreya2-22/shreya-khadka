{
 "cells": [
  {
   "cell_type": "markdown",
   "id": "246d76d8",
   "metadata": {},
   "source": [
    "week8: I/O and file handling practicals"
   ]
  },
  {
   "cell_type": "code",
   "execution_count": 4,
   "id": "4abc55a5",
   "metadata": {},
   "outputs": [
    {
     "name": "stdout",
     "output_type": "stream",
     "text": [
      "The area of a rectangle with a width of 104.32 and a height of 15.654 is 1633.03.\n"
     ]
    }
   ],
   "source": [
    "width = 104.32\n",
    "height = 15.654\n",
    "area = width * height\n",
    "print(f\"The area of a rectangle with a width of 104.32 and a height of 15.654 is {area}.\")"
   ]
  },
  {
   "cell_type": "code",
   "execution_count": 5,
   "id": "074d036b",
   "metadata": {},
   "outputs": [
    {
     "name": "stdout",
     "output_type": "stream",
     "text": [
      "The area of a rectangle with a width of 104.32 and a height of 15.654 is 1633.025.\n"
     ]
    }
   ],
   "source": [
    "width = 104.32\n",
    "height = 15.654\n",
    "area = width * height\n",
    "print(f\"The area of a rectangle with a width of 104.32 and a height of 15.654 is {area:.3f}.\")"
   ]
  },
  {
   "cell_type": "code",
   "execution_count": 12,
   "id": "5cb9fa7f",
   "metadata": {},
   "outputs": [
    {
     "name": "stdout",
     "output_type": "stream",
     "text": [
      "shreya          -         19\n"
     ]
    }
   ],
   "source": [
    "name = \"shreya\"\n",
    "age = 19\n",
    "print(f\"{name:15} - {age:10}\")"
   ]
  },
  {
   "cell_type": "code",
   "execution_count": 13,
   "id": "5564c0e7",
   "metadata": {},
   "outputs": [
    {
     "name": "stdout",
     "output_type": "stream",
     "text": [
      "         shreya -         19\n"
     ]
    }
   ],
   "source": [
    "print(f\"{name:>15} - {age:10}\")"
   ]
  },
  {
   "cell_type": "code",
   "execution_count": 14,
   "id": "af4761c5",
   "metadata": {},
   "outputs": [
    {
     "name": "stdout",
     "output_type": "stream",
     "text": [
      "    shreya      -     19    \n"
     ]
    }
   ],
   "source": [
    "print(f\"{name:^15} - {age:^10}\")\n"
   ]
  },
  {
   "cell_type": "code",
   "execution_count": 15,
   "id": "c6826c74",
   "metadata": {},
   "outputs": [
    {
     "name": "stdout",
     "output_type": "stream",
     "text": [
      "@@@@shreya@@@@@ - ####19####\n"
     ]
    }
   ],
   "source": [
    "print(f\"{name:@^15} - {age:#^10}\")"
   ]
  },
  {
   "cell_type": "code",
   "execution_count": 16,
   "id": "4fc70c49",
   "metadata": {},
   "outputs": [
    {
     "name": "stdout",
     "output_type": "stream",
     "text": [
      "$$$$$$$$$$$$$$shreya               19.37\n"
     ]
    }
   ],
   "source": [
    "name = \"shreya\"\n",
    "age = 19.3652958 \n",
    "\n",
    "print(f\"{name:$>20}{age: >20.2f}\")\n"
   ]
  },
  {
   "cell_type": "code",
   "execution_count": 18,
   "id": "97324ea9",
   "metadata": {},
   "outputs": [
    {
     "name": "stdout",
     "output_type": "stream",
     "text": [
      "A circle with radius 52 has an area of 8494.8665353068\n"
     ]
    }
   ],
   "source": [
    "import math\n",
    "\n",
    "r = 52 \n",
    "area = math.pi * r**2  \n",
    "\n",
    "result = \"A circle with radius {radius} has an area of {area}\"\n",
    "formatted_output = result.format(radius=r, area=area)\n",
    "\n",
    "print(formatted_output)\n"
   ]
  },
  {
   "cell_type": "code",
   "execution_count": 19,
   "id": "b9b9b4ce",
   "metadata": {},
   "outputs": [
    {
     "name": "stdout",
     "output_type": "stream",
     "text": [
      "@@@@Shreya@@@@@ - ####19####\n"
     ]
    }
   ],
   "source": [
    "name = \"Shreya\"\n",
    "age = 19\n",
    "\n",
    "result = \"{name:@^15} - {age:#^10}\"\n",
    "formatted_output = result.format(name=name, age=age)\n",
    "\n",
    "print(formatted_output)\n"
   ]
  },
  {
   "cell_type": "code",
   "execution_count": 35,
   "id": "a51dc22b",
   "metadata": {},
   "outputs": [
    {
     "name": "stdout",
     "output_type": "stream",
     "text": [
      "This is a text file\n",
      "It contains multiple lines of text\n",
      "This is the final line within the file\n",
      "\n"
     ]
    }
   ],
   "source": [
    "file_name = \"info.txt\"\n",
    "\n",
    "with open(file_name, 'r') as file:\n",
    "    print(file.read())\n",
    "    \n"
   ]
  },
  {
   "cell_type": "code",
   "execution_count": 36,
   "id": "1e59274e",
   "metadata": {},
   "outputs": [
    {
     "name": "stdout",
     "output_type": "stream",
     "text": [
      "This is a text file\n",
      "It contains multiple lines of text\n",
      "This is the final line within the file\n",
      "\n"
     ]
    }
   ],
   "source": [
    "file_name = \"info.txt\"\n",
    "\n",
    "file = open(file_name, 'r')\n",
    "\n",
    "\n",
    "reading_file = file.read()\n",
    "print(reading_file)\n",
    "\n",
    "file.close()\n"
   ]
  },
  {
   "cell_type": "code",
   "execution_count": 38,
   "id": "b92edc72",
   "metadata": {},
   "outputs": [
    {
     "name": "stdout",
     "output_type": "stream",
     "text": [
      "This is a text file\n",
      "It contains multiple lines of text\n",
      "This is the final line within the file\n"
     ]
    }
   ],
   "source": [
    "file_name = \"info.txt\"\n",
    "\n",
    "file = open(file_name, 'r')\n",
    "\n",
    "for i in range(3): \n",
    "    line = file.readline()\n",
    "    print(line, end=\"\")  \n",
    "\n",
    "file.close()\n"
   ]
  },
  {
   "cell_type": "code",
   "execution_count": 39,
   "id": "d1aa4602",
   "metadata": {},
   "outputs": [
    {
     "name": "stdout",
     "output_type": "stream",
     "text": [
      "This is a text file\n",
      "It contains multiple lines of text\n",
      "This is the final line within the file\n"
     ]
    }
   ],
   "source": [
    "file_name = \"info.txt\"\n",
    "\n",
    "with open(file_name, 'r') as file:\n",
    "\n",
    "    for line in file:\n",
    "        print(line, end=\"\") \n"
   ]
  },
  {
   "cell_type": "code",
   "execution_count": 48,
   "id": "129cd3cc",
   "metadata": {},
   "outputs": [
    {
     "name": "stdout",
     "output_type": "stream",
     "text": [
      "this is an extra line\n",
      "this is an extra line\n",
      "this is an extra line\n",
      "this is an extra line\n",
      "this is an extra line\n",
      "this is an extra line\n",
      "this is an extra line\n"
     ]
    }
   ],
   "source": [
    "file_name = \"info.txt\"\n",
    "\n",
    "with open(file_name, 'r') as file:\n",
    "    \n",
    "    for line in file:\n",
    "        print(line, end=\"\")\n"
   ]
  }
 ],
 "metadata": {
  "kernelspec": {
   "display_name": "Python 3 (ipykernel)",
   "language": "python",
   "name": "python3"
  },
  "language_info": {
   "codemirror_mode": {
    "name": "ipython",
    "version": 3
   },
   "file_extension": ".py",
   "mimetype": "text/x-python",
   "name": "python",
   "nbconvert_exporter": "python",
   "pygments_lexer": "ipython3",
   "version": "3.9.13"
  }
 },
 "nbformat": 4,
 "nbformat_minor": 5
}
